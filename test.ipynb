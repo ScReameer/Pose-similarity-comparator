{
 "cells": [
  {
   "cell_type": "code",
   "execution_count": 1,
   "metadata": {},
   "outputs": [],
   "source": [
    "from src.coach import VirtualCoach"
   ]
  },
  {
   "cell_type": "code",
   "execution_count": 2,
   "metadata": {},
   "outputs": [],
   "source": [
    "coach = VirtualCoach()"
   ]
  },
  {
   "cell_type": "code",
   "execution_count": 3,
   "metadata": {},
   "outputs": [
    {
     "name": "stderr",
     "output_type": "stream",
     "text": [
      "/home/screamer/anaconda3/lib/python3.11/site-packages/torch/nn/modules/conv.py:456: UserWarning: Plan failed with a cudnnException: CUDNN_BACKEND_EXECUTION_PLAN_DESCRIPTOR: cudnnFinalize Descriptor Failed cudnn_status: CUDNN_STATUS_NOT_SUPPORTED (Triggered internally at ../aten/src/ATen/native/cudnn/Conv_v8.cpp:919.)\n",
      "  return F.conv2d(input, weight, bias, self.stride,\n"
     ]
    },
    {
     "name": "stdout",
     "output_type": "stream",
     "text": [
      "torch.Size([1, 17])\n",
      "Success! The results are saved to a file \"test.png\"\n"
     ]
    },
    {
     "data": {
      "text/plain": [
       "{'OKS': 0.19144122302532196,\n",
       " 'RMSE': 141.88885498046875,\n",
       " 'WD': 190.92686462402344,\n",
       " 'CosSim': 0.9771699905395508}"
      ]
     },
     "execution_count": 3,
     "metadata": {},
     "output_type": "execute_result"
    }
   ],
   "source": [
    "video_1 = 'data/flower/flower_cover_2.mp4'\n",
    "video_2 = 'data/flower/flower_cover.mp4'\n",
    "image_1 = 'data/running.png'\n",
    "image_2 = 'data/yoga.jpg'\n",
    "coach.compare_poses(\n",
    "    image_1, \n",
    "    image_2,\n",
    "    mode='image',\n",
    "    name='test',\n",
    "    frame_skip=4,\n",
    "    batch_size=2,\n",
    "    fps=15\n",
    ")"
   ]
  }
 ],
 "metadata": {
  "kernelspec": {
   "display_name": "base",
   "language": "python",
   "name": "python3"
  },
  "language_info": {
   "codemirror_mode": {
    "name": "ipython",
    "version": 3
   },
   "file_extension": ".py",
   "mimetype": "text/x-python",
   "name": "python",
   "nbconvert_exporter": "python",
   "pygments_lexer": "ipython3",
   "version": "3.11.5"
  }
 },
 "nbformat": 4,
 "nbformat_minor": 2
}
