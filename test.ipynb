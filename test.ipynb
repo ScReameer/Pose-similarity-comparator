{
 "cells": [
  {
   "cell_type": "code",
   "execution_count": 1,
   "metadata": {},
   "outputs": [],
   "source": [
    "# from src.coach_modules.processing import VideoPreprocessor, ImagePreprocessor\n",
    "from src.coach_modules.metrics import ObjectKeypointSimilarity\n",
    "# from src.coach_modules.detector import KeypointDetector\n",
    "from src.coach import VirtualCoach\n",
    "import torch\n",
    "import numpy as np"
   ]
  },
  {
   "cell_type": "code",
   "execution_count": 2,
   "metadata": {},
   "outputs": [],
   "source": [
    "# VP = VideoPreprocessor()\n",
    "# IP = ImagePreprocessor()\n",
    "# KD = KeypointDetector()\n",
    "OKS = ObjectKeypointSimilarity()\n",
    "coach = VirtualCoach()\n",
    "video = 'data/dspr_cv_u1_diploma_spr3_2.mp4'\n",
    "image_1 = 'data/stretchen-stretch-heat-sport.jpg'\n",
    "image_2 = 'data/dspr_cv_u1_diploma_spr1_3_1.png'"
   ]
  },
  {
   "cell_type": "code",
   "execution_count": 4,
   "metadata": {},
   "outputs": [
    {
     "data": {
      "text/plain": [
       "0.8627062363550067"
      ]
     },
     "execution_count": 4,
     "metadata": {},
     "output_type": "execute_result"
    }
   ],
   "source": [
    "coach(video, video, 'video')"
   ]
  }
 ],
 "metadata": {
  "kernelspec": {
   "display_name": "base",
   "language": "python",
   "name": "python3"
  },
  "language_info": {
   "codemirror_mode": {
    "name": "ipython",
    "version": 3
   },
   "file_extension": ".py",
   "mimetype": "text/x-python",
   "name": "python",
   "nbconvert_exporter": "python",
   "pygments_lexer": "ipython3",
   "version": "3.11.5"
  }
 },
 "nbformat": 4,
 "nbformat_minor": 2
}
