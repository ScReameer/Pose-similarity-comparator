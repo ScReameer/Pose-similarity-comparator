{
 "cells": [
  {
   "cell_type": "code",
   "execution_count": 1,
   "metadata": {},
   "outputs": [],
   "source": [
    "from src.coach import VirtualCoach"
   ]
  },
  {
   "cell_type": "code",
   "execution_count": 2,
   "metadata": {},
   "outputs": [],
   "source": [
    "coach = VirtualCoach()\n",
    "video_1 = 'data/queencard/qcard_1.mp4'\n",
    "video_2 = 'data/queencard/qcard_2.mp4'\n",
    "image_1 = 'data/running.png'\n",
    "image_2 = 'data/yoga.jpg'"
   ]
  },
  {
   "cell_type": "code",
   "execution_count": 4,
   "metadata": {},
   "outputs": [
    {
     "name": "stdout",
     "output_type": "stream",
     "text": [
      "Success! The results are saved to a file \"result_2.png\"\n"
     ]
    },
    {
     "data": {
      "text/plain": [
       "{'OKS': 1.0,\n",
       " 'RMSE': 7.401599577860907e-05,\n",
       " 'CosSim': 1.0,\n",
       " 'WD': 0.00010245609155390412}"
      ]
     },
     "execution_count": 4,
     "metadata": {},
     "output_type": "execute_result"
    }
   ],
   "source": [
    "coach.compare_poses(image_1, image_1, mode='image', name='result_2')"
   ]
  }
 ],
 "metadata": {
  "kernelspec": {
   "display_name": "base",
   "language": "python",
   "name": "python3"
  },
  "language_info": {
   "codemirror_mode": {
    "name": "ipython",
    "version": 3
   },
   "file_extension": ".py",
   "mimetype": "text/x-python",
   "name": "python",
   "nbconvert_exporter": "python",
   "pygments_lexer": "ipython3",
   "version": "3.11.5"
  }
 },
 "nbformat": 4,
 "nbformat_minor": 2
}
