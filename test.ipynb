{
 "cells": [
  {
   "cell_type": "code",
   "execution_count": 1,
   "metadata": {},
   "outputs": [],
   "source": [
    "from src.coach import VirtualCoach"
   ]
  },
  {
   "cell_type": "code",
   "execution_count": 2,
   "metadata": {},
   "outputs": [],
   "source": [
    "coach = VirtualCoach()\n",
    "video_1 = 'data/queencard/qcard_1.mp4'\n",
    "video_2 = 'data/queencard/qcard_2.mp4'\n",
    "image_1 = 'data/running.png'\n",
    "image_2 = 'data/run.jpg'"
   ]
  },
  {
   "cell_type": "code",
   "execution_count": 3,
   "metadata": {},
   "outputs": [
    {
     "name": "stdout",
     "output_type": "stream",
     "text": [
      "Success! The results are saved to a file \"result.avi\"\n"
     ]
    },
    {
     "data": {
      "text/plain": [
       "{'OKS': 0.7401803342832459,\n",
       " 'CosSim': 0.9960748302163901,\n",
       " 'RMSE': 28.689278381842154}"
      ]
     },
     "execution_count": 3,
     "metadata": {},
     "output_type": "execute_result"
    }
   ],
   "source": [
    "coach.compare_poses(video_1, video_2, mode='video', frame_skip=2, batch_size=2)"
   ]
  }
 ],
 "metadata": {
  "kernelspec": {
   "display_name": "base",
   "language": "python",
   "name": "python3"
  },
  "language_info": {
   "codemirror_mode": {
    "name": "ipython",
    "version": 3
   },
   "file_extension": ".py",
   "mimetype": "text/x-python",
   "name": "python",
   "nbconvert_exporter": "python",
   "pygments_lexer": "ipython3",
   "version": "3.11.5"
  }
 },
 "nbformat": 4,
 "nbformat_minor": 2
}
