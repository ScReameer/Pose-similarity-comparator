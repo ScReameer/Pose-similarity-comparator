{
 "cells": [
  {
   "cell_type": "code",
   "execution_count": 1,
   "metadata": {},
   "outputs": [],
   "source": [
    "from src.coach import VirtualCoach\n",
    "import torch"
   ]
  },
  {
   "cell_type": "code",
   "execution_count": 2,
   "metadata": {},
   "outputs": [],
   "source": [
    "coach = VirtualCoach()\n",
    "video_1 = 'data/queencard/qcard_1.mp4'\n",
    "video_2 = 'data/queencard/qcard_2.mp4'\n",
    "image_1 = 'data/running.png'\n",
    "image_2 = 'data/running_reverse.png'"
   ]
  },
  {
   "cell_type": "code",
   "execution_count": 3,
   "metadata": {},
   "outputs": [
    {
     "name": "stderr",
     "output_type": "stream",
     "text": [
      "/home/screamer/anaconda3/lib/python3.11/site-packages/torch/nn/modules/conv.py:456: UserWarning:\n",
      "\n",
      "Plan failed with a cudnnException: CUDNN_BACKEND_EXECUTION_PLAN_DESCRIPTOR: cudnnFinalize Descriptor Failed cudnn_status: CUDNN_STATUS_NOT_SUPPORTED (Triggered internally at ../aten/src/ATen/native/cudnn/Conv_v8.cpp:919.)\n",
      "\n"
     ]
    },
    {
     "data": {
      "text/plain": [
       "{'OKS': 0.7406309682682071,\n",
       " 'CosSim': 0.9961025378607601,\n",
       " 'RMSE': 28.469268091014357,\n",
       " 'MAE': 20.294156114214417}"
      ]
     },
     "execution_count": 3,
     "metadata": {},
     "output_type": "execute_result"
    }
   ],
   "source": [
    "coach.compare_poses(video_1, video_2, mode='video', frame_rate=1)"
   ]
  }
 ],
 "metadata": {
  "kernelspec": {
   "display_name": "base",
   "language": "python",
   "name": "python3"
  },
  "language_info": {
   "codemirror_mode": {
    "name": "ipython",
    "version": 3
   },
   "file_extension": ".py",
   "mimetype": "text/x-python",
   "name": "python",
   "nbconvert_exporter": "python",
   "pygments_lexer": "ipython3",
   "version": "3.11.5"
  }
 },
 "nbformat": 4,
 "nbformat_minor": 2
}
