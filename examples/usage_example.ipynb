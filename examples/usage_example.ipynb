{
 "cells": [
  {
   "cell_type": "markdown",
   "metadata": {},
   "source": [
    "# Example of usage `VirtualCoach` class"
   ]
  },
  {
   "cell_type": "code",
   "execution_count": 1,
   "metadata": {},
   "outputs": [],
   "source": [
    "from src.coach import VirtualCoach\n",
    "# Additional metrics, optional\n",
    "from src.coach_modules.metrics import RMSE, CosineSimilarity, WeightedDistance\n",
    "# cuDNN can raise some warnings\n",
    "import warnings\n",
    "warnings.filterwarnings('ignore')"
   ]
  },
  {
   "cell_type": "markdown",
   "metadata": {},
   "source": [
    "By default, the arguments `oks_threshold` and `metrics` are already set, however, you can change them by looking at the documentation for the class"
   ]
  },
  {
   "cell_type": "code",
   "execution_count": 2,
   "metadata": {},
   "outputs": [],
   "source": [
    "# auxiliary_metrics is an optional argument, OKS is always used by default\n",
    "AUX_METRICS = {\n",
    "    'RMSE': RMSE(),\n",
    "    'WD': WeightedDistance(),\n",
    "    'CosSim': CosineSimilarity()\n",
    "}\n",
    "coach = VirtualCoach(aux_metrics=AUX_METRICS)"
   ]
  },
  {
   "cell_type": "markdown",
   "metadata": {},
   "source": [
    "## Comparison of two videos\n",
    "Information about the arguments can be found in the documentation for the function"
   ]
  },
  {
   "cell_type": "code",
   "execution_count": 3,
   "metadata": {},
   "outputs": [
    {
     "name": "stdout",
     "output_type": "stream",
     "text": [
      "Success! The results are saved to a file \"video_output.avi\"\n",
      "{'OKS': 0.8353781215846539, 'RMSE': 29.341029573659426, 'WD': 38.36557426218127, 'CosSim': 0.9960047355929359}\n"
     ]
    }
   ],
   "source": [
    "video_1 = 'data/flower/flower_cover_2.mp4'\n",
    "video_2 = 'data/flower/flower_cover.mp4'\n",
    "metrics_dict = coach.compare_poses(\n",
    "    reference_path=video_1, \n",
    "    actual_path=video_2,\n",
    "    mode='video',\n",
    "    name='video_output',\n",
    "    # fps=30,\n",
    "    # frame_skip=2,\n",
    "    # batch_size=2\n",
    ")\n",
    "print(metrics_dict)"
   ]
  },
  {
   "cell_type": "markdown",
   "metadata": {},
   "source": [
    "## Comparison of two images"
   ]
  },
  {
   "cell_type": "code",
   "execution_count": 4,
   "metadata": {},
   "outputs": [
    {
     "name": "stdout",
     "output_type": "stream",
     "text": [
      "Success! The results are saved to a file \"image_output.png\"\n",
      "{'OKS': 0.19144122302532196, 'RMSE': 141.88885498046875, 'WD': 190.92686462402344, 'CosSim': 0.9771699905395508}\n"
     ]
    }
   ],
   "source": [
    "image_1 = 'data/running.png'\n",
    "image_2 = 'data/yoga.jpg'\n",
    "metrics_dict = coach.compare_poses(\n",
    "    reference_path=image_1,\n",
    "    actual_path=image_2,\n",
    "    mode='image',\n",
    "    name='image_output',\n",
    ")\n",
    "print(metrics_dict)"
   ]
  }
 ],
 "metadata": {
  "kernelspec": {
   "display_name": "base",
   "language": "python",
   "name": "python3"
  },
  "language_info": {
   "codemirror_mode": {
    "name": "ipython",
    "version": 3
   },
   "file_extension": ".py",
   "mimetype": "text/x-python",
   "name": "python",
   "nbconvert_exporter": "python",
   "pygments_lexer": "ipython3",
   "version": "3.11.5"
  }
 },
 "nbformat": 4,
 "nbformat_minor": 2
}
